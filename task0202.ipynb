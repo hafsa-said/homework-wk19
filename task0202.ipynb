{
 "cells": [
  {
   "cell_type": "markdown",
   "id": "588775e6",
   "metadata": {},
   "source": [
    "# Q. 1.\n",
    "Take one of the supervised learning models you have built recently and apply at least three dimensionality reduction techniques to it (separately). Be sure to create a short\n",
    "summary of each technique you use"
   ]
  },
  {
   "cell_type": "code",
   "execution_count": 1,
   "id": "d86f40d0",
   "metadata": {},
   "outputs": [],
   "source": [
    "import numpy as np\n",
    "import pandas as pd\n",
    "from sklearn import metrics\n",
    "from scipy.spatial.distance import cdist\n",
    "import matplotlib.pyplot as plt"
   ]
  },
  {
   "cell_type": "code",
   "execution_count": 9,
   "id": "80a6a39b",
   "metadata": {},
   "outputs": [],
   "source": [
    "from sklearn.linear_model import LogisticRegression\n",
    "from sklearn.preprocessing import StandardScaler\n",
    "from sklearn.model_selection import train_test_split\n",
    "\n",
    "diabetes_df = pd.read_csv(\"dataset/diabetes.csv\")\n",
    "\n",
    "X = diabetes_df.drop('Outcome', axis=1)\n",
    "y = diabetes_df['Outcome']\n",
    "\n",
    "# Split into training and test set\n",
    "X_train, X_test, y_train, y_test = train_test_split(X, y, test_size = 0.3, random_state=24, stratify=y)"
   ]
  },
  {
   "cell_type": "code",
   "execution_count": 12,
   "id": "ae486481",
   "metadata": {},
   "outputs": [
    {
     "name": "stdout",
     "output_type": "stream",
     "text": [
      "Accuracy: 0.773 (0.045)\n"
     ]
    }
   ],
   "source": [
    "# evaluate lda with logistic regression algorithm for classification\n",
    "from numpy import mean\n",
    "from numpy import std\n",
    "from sklearn.model_selection import cross_val_score\n",
    "from sklearn.model_selection import RepeatedStratifiedKFold\n",
    "from sklearn.pipeline import Pipeline\n",
    "from sklearn.discriminant_analysis import LinearDiscriminantAnalysis\n",
    "from sklearn.linear_model import LogisticRegression\n",
    "\n",
    "#using the LDA or linear discrimant analysis, as it is multi-class classification algorithm, however, it only has one dimension. Similar scores to other techniques\n",
    "# define the pipeline\n",
    "steps = [('lda', LinearDiscriminantAnalysis(n_components=1)), ('m', LogisticRegression())]\n",
    "model = Pipeline(steps=steps)\n",
    "# evaluate model\n",
    "cv = RepeatedStratifiedKFold(n_splits=10, n_repeats=3, random_state=24)\n",
    "n_scores = cross_val_score(model, X, y, scoring='accuracy', cv=cv, n_jobs=-1)\n",
    "# report performance\n",
    "print('Accuracy: %.3f (%.3f)' % (mean(n_scores), std(n_scores)))"
   ]
  },
  {
   "cell_type": "code",
   "execution_count": 13,
   "id": "0f9bb956",
   "metadata": {},
   "outputs": [
    {
     "name": "stdout",
     "output_type": "stream",
     "text": [
      "Accuracy: 0.773 (0.043)\n"
     ]
    }
   ],
   "source": [
    "# evaluate pca with logistic regression algorithm for classification\n",
    "from sklearn.decomposition import PCA\n",
    "from sklearn.linear_model import LogisticRegression\n",
    "\n",
    "#pca is most common reduction technique, n_components defines number of desired dimensions, we dont see much of a change in our scores\n",
    "# define the pipeline\n",
    "steps = [('pca', PCA(n_components=8)), ('m', LogisticRegression())]\n",
    "model = Pipeline(steps=steps)\n",
    "# evaluate model\n",
    "cv = RepeatedStratifiedKFold(n_splits=10, n_repeats=3, random_state=1)\n",
    "n_scores = cross_val_score(model, X, y, scoring='accuracy', cv=cv, n_jobs=-1)\n",
    "# report performance\n",
    "print('Accuracy: %.3f (%.3f)' % (mean(n_scores), std(n_scores)))"
   ]
  },
  {
   "cell_type": "code",
   "execution_count": 14,
   "id": "701a1895",
   "metadata": {},
   "outputs": [
    {
     "name": "stdout",
     "output_type": "stream",
     "text": [
      "Accuracy: 0.725 (0.048)\n"
     ]
    }
   ],
   "source": [
    "# evaluate isomap with logistic regression algorithm for classification\n",
    "from sklearn.manifold import Isomap\n",
    "from sklearn.linear_model import LogisticRegression\n",
    "\n",
    "#using isomap, it attempts to preserve the relationship within the data. It caused the score to drop a little.\n",
    "# define the pipeline\n",
    "steps = [('iso', Isomap(n_components=8)), ('m', LogisticRegression())]\n",
    "model = Pipeline(steps=steps)\n",
    "# evaluate model\n",
    "cv = RepeatedStratifiedKFold(n_splits=10, n_repeats=3, random_state=1)\n",
    "n_scores = cross_val_score(model, X, y, scoring='accuracy', cv=cv, n_jobs=-1)\n",
    "# report performance\n",
    "print('Accuracy: %.3f (%.3f)' % (mean(n_scores), std(n_scores)))"
   ]
  },
  {
   "cell_type": "markdown",
   "id": "aab4cec4",
   "metadata": {},
   "source": [
    "# Q.2.\n",
    "Write a function that will indicate if an inputted IPv4 address is accurate or not. IP addresses are valid if they have 4 values between 0 and 255 (inclusive), punctuated\n",
    "by periods.\n"
   ]
  },
  {
   "cell_type": "code",
   "execution_count": 16,
   "id": "8f381527",
   "metadata": {},
   "outputs": [],
   "source": [
    "#define function\n",
    "def accurate(ip):\n",
    "    val= str(ip).split('.') #identify the punctuation\n",
    "    if len(val) == 4: #set length of value\n",
    "        for i in val:\n",
    "            if int(i)< 0 or int(i) > 255: #0 and 255 inclusive\n",
    "                return False\n",
    "    else:\n",
    "        return False\n",
    "    return True"
   ]
  },
  {
   "cell_type": "code",
   "execution_count": 18,
   "id": "53bc8fa2",
   "metadata": {},
   "outputs": [
    {
     "data": {
      "text/plain": [
       "True"
      ]
     },
     "execution_count": 18,
     "metadata": {},
     "output_type": "execute_result"
    }
   ],
   "source": [
    "accurate('2.33.245.5')"
   ]
  },
  {
   "cell_type": "code",
   "execution_count": null,
   "id": "1ebdbee3",
   "metadata": {},
   "outputs": [],
   "source": []
  }
 ],
 "metadata": {
  "kernelspec": {
   "display_name": "Python 3 (ipykernel)",
   "language": "python",
   "name": "python3"
  },
  "language_info": {
   "codemirror_mode": {
    "name": "ipython",
    "version": 3
   },
   "file_extension": ".py",
   "mimetype": "text/x-python",
   "name": "python",
   "nbconvert_exporter": "python",
   "pygments_lexer": "ipython3",
   "version": "3.9.7"
  }
 },
 "nbformat": 4,
 "nbformat_minor": 5
}
